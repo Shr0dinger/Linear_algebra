{
 "cells": [
  {
   "cell_type": "markdown",
   "id": "871ddfa8",
   "metadata": {},
   "source": [
    "### 1_1"
   ]
  },
  {
   "cell_type": "markdown",
   "id": "27770d61",
   "metadata": {},
   "source": [
    "$f_{1}(x)=e^{x},   f_{2}(x)=1,   f_{3}(x)=x+1,   f_{4}(x)=x-e^{x}$"
   ]
  },
  {
   "cell_type": "markdown",
   "id": "a458c11a",
   "metadata": {},
   "source": [
    "$x-e^{x} = x + 1 - 1 - e^{x}$\n",
    "\n",
    "Следовательно, можно говорить о линейной зависимости."
   ]
  },
  {
   "cell_type": "markdown",
   "id": "6c8ce5ea",
   "metadata": {},
   "source": [
    "### 1_2"
   ]
  },
  {
   "cell_type": "markdown",
   "id": "cbfee8c5",
   "metadata": {},
   "source": [
    "$f_{1}(x)=2, f_{2}(x)=x, f_{3}(x)=x^{2}, f_{4}(x)=(x+1)^{2}$"
   ]
  },
  {
   "cell_type": "markdown",
   "id": "160092c2",
   "metadata": {},
   "source": [
    "$(x+1)^{2}  =  x^{2} + 2x + 1$"
   ]
  },
  {
   "cell_type": "markdown",
   "id": "c2fc9d2f",
   "metadata": {},
   "source": [
    "$x^{2} + 2x + 1 = x^{2} + 2*(x) + 1/2*(2)$\n",
    "\n",
    "Следовательно, можно говорить о линейной зависимости."
   ]
  },
  {
   "cell_type": "markdown",
   "id": "66d0d88a",
   "metadata": {},
   "source": [
    "### 1_3"
   ]
  },
  {
   "cell_type": "markdown",
   "id": "200e273a",
   "metadata": {},
   "source": [
    "вектор $x = (2, 3, 5)\\in \\mathbb{R}^{3}$ в базисе $b_{1}=(0, 0, 10)$, $b_{2}=(2, 0, 0)$, $b_{3}=(0, 1, 0)$."
   ]
  },
  {
   "cell_type": "markdown",
   "id": "34a7d297",
   "metadata": {},
   "source": [
    "$b_{2}+3*b_{3} + 1/2*b_{1} = x$"
   ]
  },
  {
   "cell_type": "markdown",
   "id": "9c8cc822",
   "metadata": {},
   "source": [
    "### 1_4"
   ]
  },
  {
   "cell_type": "markdown",
   "id": "313e4d5e",
   "metadata": {},
   "source": [
    "$3x^{2}-2x+2\\in\\mathbb{R}^{3}[x]$"
   ]
  },
  {
   "cell_type": "markdown",
   "id": "1741475d",
   "metadata": {},
   "source": [
    "в базисе $1$, $x$, $x^{2}$ : $(2, -2 , 3)$"
   ]
  },
  {
   "cell_type": "markdown",
   "id": "26daafe3",
   "metadata": {},
   "source": [
    "в базисе $x^{2}$, $x-1$, $1$ : $(3*(x^{2}) - 2*(x-1) + 0*(1))$"
   ]
  },
  {
   "cell_type": "markdown",
   "id": "af31f5ab",
   "metadata": {},
   "source": [
    "### 1_5"
   ]
  },
  {
   "cell_type": "markdown",
   "id": "ab56dd23",
   "metadata": {},
   "source": [
    "a) Т.к. при сложении двух векторов первая координата может получиться не 0, следовательно, совокупность всех векторов трехмерного пространства, у которых по крайней мере одна из первых двух координат равна нулю не является линейным подпространством."
   ]
  },
  {
   "cell_type": "markdown",
   "id": "9dee0b18",
   "metadata": {},
   "source": [
    "б) $a = \\{a1*u_{1}, a2*u_{2}, \\ldots, an*u_{n}\\}\\\\\n",
    "b = \\{b1*u_{1}, b2*u_{2}, \\ldots, bn*u_{n}\\}\\\\\n",
    "a+b = \\{(a1+b1)*u_{1}, (a2+b2)*u_{2}, \\ldots, (an+bn)*u_{n}\\}$\n",
    "Базисные вектора домножаются на коэффициенты, но сами не меняются, следовательно, это является подпространством."
   ]
  },
  {
   "cell_type": "markdown",
   "id": "bbfbcc8d",
   "metadata": {},
   "source": [
    "### 2_1"
   ]
  },
  {
   "cell_type": "code",
   "execution_count": 1,
   "id": "b5e16186",
   "metadata": {},
   "outputs": [],
   "source": [
    "import numpy as np"
   ]
  },
  {
   "cell_type": "code",
   "execution_count": 2,
   "id": "a45101b3",
   "metadata": {},
   "outputs": [
    {
     "data": {
      "text/plain": [
       "33"
      ]
     },
     "execution_count": 2,
     "metadata": {},
     "output_type": "execute_result"
    }
   ],
   "source": [
    "x = np.array([0, -3, 6])\n",
    "y = np.array([-4, 7, 9])\n",
    "rez = np.dot(x, y)\n",
    "rez"
   ]
  },
  {
   "cell_type": "code",
   "execution_count": 3,
   "id": "2b52d0ea",
   "metadata": {},
   "outputs": [
    {
     "data": {
      "text/plain": [
       "-23"
      ]
     },
     "execution_count": 3,
     "metadata": {},
     "output_type": "execute_result"
    }
   ],
   "source": [
    "x = np.array([7,-4,0,1])\n",
    "y = np.array([-3,1,11,2])\n",
    "rez = np.dot(x, y)\n",
    "rez"
   ]
  },
  {
   "cell_type": "markdown",
   "id": "ba3dbb65",
   "metadata": {},
   "source": [
    "### 2_2"
   ]
  },
  {
   "cell_type": "code",
   "execution_count": 4,
   "id": "05c8206f",
   "metadata": {},
   "outputs": [],
   "source": [
    "from numpy.linalg import norm"
   ]
  },
  {
   "cell_type": "code",
   "execution_count": 5,
   "id": "c789c758",
   "metadata": {},
   "outputs": [],
   "source": [
    "x = np.array([4, 2, 4])\n",
    "y = np.array([12, 3, 4])"
   ]
  },
  {
   "cell_type": "code",
   "execution_count": 6,
   "id": "1ba5f2ec",
   "metadata": {},
   "outputs": [
    {
     "data": {
      "text/plain": [
       "(10.0, 19.0)"
      ]
     },
     "execution_count": 6,
     "metadata": {},
     "output_type": "execute_result"
    }
   ],
   "source": [
    "Nx1 = norm(x, ord = 1)\n",
    "Ny1 = norm(y, ord = 1)\n",
    "Nx1, Ny1"
   ]
  },
  {
   "cell_type": "code",
   "execution_count": 7,
   "id": "cbe256f8",
   "metadata": {},
   "outputs": [
    {
     "data": {
      "text/plain": [
       "(6.0, 13.0)"
      ]
     },
     "execution_count": 7,
     "metadata": {},
     "output_type": "execute_result"
    }
   ],
   "source": [
    "Nx2 = norm(x, ord = 2)\n",
    "Ny2 = norm(y, ord = 2)\n",
    "Nx2, Ny2"
   ]
  },
  {
   "cell_type": "code",
   "execution_count": 8,
   "id": "e3067c7a",
   "metadata": {},
   "outputs": [
    {
     "data": {
      "text/plain": [
       "70"
      ]
     },
     "execution_count": 8,
     "metadata": {},
     "output_type": "execute_result"
    }
   ],
   "source": [
    "rez = np.dot(x, y)\n",
    "rez"
   ]
  },
  {
   "cell_type": "code",
   "execution_count": 9,
   "id": "2eeb3eb6",
   "metadata": {},
   "outputs": [
    {
     "name": "stdout",
     "output_type": "stream",
     "text": [
      "0.90\n",
      "0.46\n"
     ]
    }
   ],
   "source": [
    "ang = rez / (Nx2 * Ny2)\n",
    "arc_ang = np.arccos(ang)\n",
    "print(f'{ang:.2f}')\n",
    "print(f'{arc_ang:.2f}')"
   ]
  },
  {
   "cell_type": "markdown",
   "id": "5a210e19",
   "metadata": {},
   "source": [
    "### 2_3"
   ]
  },
  {
   "cell_type": "markdown",
   "id": "aa117dc7",
   "metadata": {},
   "source": [
    "а) произведение длин векторов:"
   ]
  },
  {
   "cell_type": "code",
   "execution_count": 21,
   "id": "7418a09f",
   "metadata": {},
   "outputs": [
    {
     "data": {
      "text/plain": [
       "(3.0, 4.0, array([4, 3]), 5.0, 10.0)"
      ]
     },
     "execution_count": 21,
     "metadata": {},
     "output_type": "execute_result"
    }
   ],
   "source": [
    "x1 = np.array([0, 3])\n",
    "x2 = np.array([4, 0])\n",
    "y = np.array([0, 10])\n",
    "x_1_2 = x1+x2\n",
    "len_x1 = np.linalg.norm(x1)\n",
    "len_x2 = np.linalg.norm(x2)\n",
    "len_x_1_2 = np.linalg.norm(x_1_2)\n",
    "len_y = np.linalg.norm(y)\n",
    "\n",
    "len_x1, len_x2, x_1_2, len_x_1_2, len_y"
   ]
  },
  {
   "cell_type": "markdown",
   "id": "8b10a784",
   "metadata": {},
   "source": [
    "Проверяем третью аксиому евклидова пространства:\n",
    "$(x_{1}+x_{2},y)=(x_{1},y)+(x_{2},y);$<br>"
   ]
  },
  {
   "cell_type": "code",
   "execution_count": 25,
   "id": "abb9dc91",
   "metadata": {},
   "outputs": [
    {
     "data": {
      "text/plain": [
       "False"
      ]
     },
     "execution_count": 25,
     "metadata": {},
     "output_type": "execute_result"
    }
   ],
   "source": [
    "len_x_1_2 * len_y == len_x1 * len_y + len_x2 * len_y"
   ]
  },
  {
   "cell_type": "markdown",
   "id": "40ec23e9",
   "metadata": {},
   "source": [
    "Третья аксиома не соблюдается, следовательно линейное пространство не является евклидовым"
   ]
  },
  {
   "cell_type": "markdown",
   "id": "ba4a4ae1",
   "metadata": {},
   "source": [
    "б) утроенное обычное скалярное произведение векторов:"
   ]
  },
  {
   "cell_type": "markdown",
   "id": "9dc1dd3a",
   "metadata": {},
   "source": [
    "При утроенном скалярном произведении векторов все свойства выполняются, т.к. утроение всегда можно вынести за скобки."
   ]
  },
  {
   "cell_type": "markdown",
   "id": "2fbb4b4c",
   "metadata": {},
   "source": [
    "### 2_4"
   ]
  },
  {
   "cell_type": "code",
   "execution_count": 14,
   "id": "a8ec4b4d",
   "metadata": {},
   "outputs": [
    {
     "name": "stdout",
     "output_type": "stream",
     "text": [
      "x*x, x*y, y*y = (1, 0, 1)\n"
     ]
    }
   ],
   "source": [
    "x = np.array([1, 0, 0])\n",
    "y = np.array([0, 0, 1])\n",
    "\n",
    "rezxy = np.dot(x, y)\n",
    "rezxx = round(np.dot(x, x),2)\n",
    "rezyy = round(np.dot(y, y),2)\n",
    "\n",
    "\n",
    "print(f'x*x, x*y, y*y = {rezxx, rezxy, rezyy}')"
   ]
  },
  {
   "cell_type": "markdown",
   "id": "67932aa7",
   "metadata": {},
   "source": [
    "В пространстве R3 должно быть 3 вектора, следовательно, вектора не образуют ортонормированный базис в линейном пространстве  ℝ3."
   ]
  },
  {
   "cell_type": "code",
   "execution_count": 11,
   "id": "d942eaca",
   "metadata": {},
   "outputs": [
    {
     "name": "stdout",
     "output_type": "stream",
     "text": [
      "x*x, y*y, z*z = (1.0, 1.0, 1)\n",
      "x*y, x*z, y*z = (0.0, 0.0, 0.0)\n"
     ]
    }
   ],
   "source": [
    "x = np.array([1/np.sqrt(2), -1/np.sqrt(2), 0])\n",
    "y = np.array([1/np.sqrt(2), 1/np.sqrt(2), 0])\n",
    "z = np.array([0, 0, 1])\n",
    "\n",
    "rezxy = np.dot(x, y)\n",
    "rezxz = np.dot(x, z)\n",
    "rezyz = np.dot(y, z)\n",
    "rezxx = round(np.dot(x, x),2)\n",
    "rezyy = round(np.dot(y, y),2)\n",
    "rezzz = round(np.dot(z, z),2)\n",
    "\n",
    "print(f'x*x, y*y, z*z = {rezxx, rezyy, rezzz}')\n",
    "print(f'x*y, x*z, y*z = {rezxy, rezxz, rezyz}')\n"
   ]
  },
  {
   "cell_type": "markdown",
   "id": "953e2807",
   "metadata": {},
   "source": [
    "Следовательно, вектора образуют ортонормированный базис в линейном пространстве  ℝ3"
   ]
  },
  {
   "cell_type": "code",
   "execution_count": 12,
   "id": "4a3d33fe",
   "metadata": {},
   "outputs": [
    {
     "name": "stdout",
     "output_type": "stream",
     "text": [
      "x*x, y*y, z*z = (0.5, 0.5, 1)\n",
      "x*y, x*z, y*z = (-0.25, 0.0, 0.5)\n"
     ]
    }
   ],
   "source": [
    "x = np.array([1/2,-1/2,0])\n",
    "y = np.array([0,1/2,1/2])\n",
    "z = np.array([0,0,1])\n",
    "rezxy = np.dot(x, y)\n",
    "rezxz = np.dot(x, z)\n",
    "rezyz = np.dot(y, z)\n",
    "rezxx = round(np.dot(x, x),2)\n",
    "rezyy = round(np.dot(y, y),2)\n",
    "rezzz = round(np.dot(z, z),2)\n",
    "\n",
    "print(f'x*x, y*y, z*z = {rezxx, rezyy, rezzz}')\n",
    "print(f'x*y, x*z, y*z = {rezxy, rezxz, rezyz}')"
   ]
  },
  {
   "cell_type": "markdown",
   "id": "9c087505",
   "metadata": {},
   "source": [
    "Условие не выполняется. Следовательно, вектора не образуют ортонормированный базис в линейном пространстве  ℝ3"
   ]
  },
  {
   "cell_type": "code",
   "execution_count": 13,
   "id": "954fa8b1",
   "metadata": {},
   "outputs": [
    {
     "name": "stdout",
     "output_type": "stream",
     "text": [
      "x*x, y*y, z*z = (1, 1, 1)\n",
      "x*y, x*z, y*z = (0, 0, 0)\n"
     ]
    }
   ],
   "source": [
    "x = np.array([1,0,0])\n",
    "y = np.array([0,1,0])\n",
    "z = np.array([0,0,1])\n",
    "rezxy = np.dot(x, y)\n",
    "rezxz = np.dot(x, z)\n",
    "rezyz = np.dot(y, z)\n",
    "rezxx = round(np.dot(x, x),2)\n",
    "rezyy = round(np.dot(y, y),2)\n",
    "rezzz = round(np.dot(z, z),2)\n",
    "\n",
    "print(f'x*x, y*y, z*z = {rezxx, rezyy, rezzz}')\n",
    "print(f'x*y, x*z, y*z = {rezxy, rezxz, rezyz}')"
   ]
  },
  {
   "cell_type": "markdown",
   "id": "eae6d56f",
   "metadata": {},
   "source": [
    "Следовательно, вектора образуют ортонормированный базис в линейном пространстве  ℝ3"
   ]
  }
 ],
 "metadata": {
  "kernelspec": {
   "display_name": "Python 3 (ipykernel)",
   "language": "python",
   "name": "python3"
  },
  "language_info": {
   "codemirror_mode": {
    "name": "ipython",
    "version": 3
   },
   "file_extension": ".py",
   "mimetype": "text/x-python",
   "name": "python",
   "nbconvert_exporter": "python",
   "pygments_lexer": "ipython3",
   "version": "3.10.4"
  }
 },
 "nbformat": 4,
 "nbformat_minor": 5
}
