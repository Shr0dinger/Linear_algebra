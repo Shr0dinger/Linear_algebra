{
 "cells": [
  {
   "cell_type": "markdown",
   "id": "871ddfa8",
   "metadata": {},
   "source": [
    "### 1_1"
   ]
  },
  {
   "cell_type": "markdown",
   "id": "27770d61",
   "metadata": {},
   "source": [
    "$f_{1}(x)=e^{x},   f_{2}(x)=1,   f_{3}(x)=x+1,   f_{4}(x)=x-e^{x}$"
   ]
  },
  {
   "cell_type": "markdown",
   "id": "a458c11a",
   "metadata": {},
   "source": [
    "$x+1 = e^{x} + 1 + (x-e^{x})$\n",
    "\n",
    "Следовательно, можно говорить о линейной зависимости."
   ]
  },
  {
   "cell_type": "markdown",
   "id": "6c8ce5ea",
   "metadata": {},
   "source": [
    "### 1_2"
   ]
  },
  {
   "cell_type": "markdown",
   "id": "cbfee8c5",
   "metadata": {},
   "source": [
    "$f_{1}(x)=2, f_{2}(x)=x, f_{3}(x)=x^{2}, f_{4}(x)=(x+1)^{2}$"
   ]
  },
  {
   "cell_type": "markdown",
   "id": "160092c2",
   "metadata": {},
   "source": [
    "$(x+1)^{2}  =  x^{2} + 2x + 1$"
   ]
  },
  {
   "cell_type": "markdown",
   "id": "c2fc9d2f",
   "metadata": {},
   "source": [
    "$x^{2} + 2x + 1 \\neq x^{2} + x + 2$<br>\n",
    "\n",
    "Следовательно, нельзя говорить о линейной зависимости."
   ]
  },
  {
   "cell_type": "markdown",
   "id": "66d0d88a",
   "metadata": {},
   "source": [
    "### 1_3"
   ]
  },
  {
   "cell_type": "markdown",
   "id": "200e273a",
   "metadata": {},
   "source": [
    "вектор $x = (2, 3, 5)\\in \\mathbb{R}^{3}$ в базисе $b_{1}=(0, 0, 10)$, $b_{2}=(2, 0, 0)$, $b_{3}=(0, 1, 0)$."
   ]
  },
  {
   "cell_type": "markdown",
   "id": "34a7d297",
   "metadata": {},
   "source": [
    "$2*b_{2}+3*b_{3} + 5*b_{1} = (4,3,50)$"
   ]
  },
  {
   "cell_type": "markdown",
   "id": "bbfbcc8d",
   "metadata": {},
   "source": [
    "### 2_1"
   ]
  },
  {
   "cell_type": "code",
   "execution_count": 1,
   "id": "b5e16186",
   "metadata": {},
   "outputs": [],
   "source": [
    "import numpy as np"
   ]
  },
  {
   "cell_type": "code",
   "execution_count": 2,
   "id": "a45101b3",
   "metadata": {},
   "outputs": [
    {
     "data": {
      "text/plain": [
       "33"
      ]
     },
     "execution_count": 2,
     "metadata": {},
     "output_type": "execute_result"
    }
   ],
   "source": [
    "x = np.array([0, -3, 6])\n",
    "y = np.array([-4, 7, 9])\n",
    "rez = np.dot(x, y)\n",
    "rez"
   ]
  },
  {
   "cell_type": "code",
   "execution_count": 3,
   "id": "2b52d0ea",
   "metadata": {},
   "outputs": [
    {
     "data": {
      "text/plain": [
       "-23"
      ]
     },
     "execution_count": 3,
     "metadata": {},
     "output_type": "execute_result"
    }
   ],
   "source": [
    "x = np.array([7,-4,0,1])\n",
    "y = np.array([-3,1,11,2])\n",
    "rez = np.dot(x, y)\n",
    "rez"
   ]
  },
  {
   "cell_type": "markdown",
   "id": "ba3dbb65",
   "metadata": {},
   "source": [
    "### 2_2"
   ]
  },
  {
   "cell_type": "code",
   "execution_count": 4,
   "id": "05c8206f",
   "metadata": {},
   "outputs": [],
   "source": [
    "from numpy.linalg import norm"
   ]
  },
  {
   "cell_type": "code",
   "execution_count": 5,
   "id": "c789c758",
   "metadata": {},
   "outputs": [],
   "source": [
    "x = np.array([4, 2, 4])\n",
    "y = np.array([12, 3, 4])"
   ]
  },
  {
   "cell_type": "code",
   "execution_count": 6,
   "id": "1ba5f2ec",
   "metadata": {},
   "outputs": [
    {
     "data": {
      "text/plain": [
       "(6.0, 13.0)"
      ]
     },
     "execution_count": 6,
     "metadata": {},
     "output_type": "execute_result"
    }
   ],
   "source": [
    "Nx = norm(x)\n",
    "Ny = norm(y)\n",
    "Nx, Ny"
   ]
  },
  {
   "cell_type": "code",
   "execution_count": 7,
   "id": "e3067c7a",
   "metadata": {},
   "outputs": [
    {
     "data": {
      "text/plain": [
       "70"
      ]
     },
     "execution_count": 7,
     "metadata": {},
     "output_type": "execute_result"
    }
   ],
   "source": [
    "rez = np.dot(x, y)\n",
    "rez"
   ]
  },
  {
   "cell_type": "code",
   "execution_count": 8,
   "id": "2eeb3eb6",
   "metadata": {},
   "outputs": [
    {
     "data": {
      "text/plain": [
       "151.66666666666666"
      ]
     },
     "execution_count": 8,
     "metadata": {},
     "output_type": "execute_result"
    }
   ],
   "source": [
    "ang = rez / Nx * Ny\n",
    "ang"
   ]
  },
  {
   "cell_type": "markdown",
   "id": "2fbb4b4c",
   "metadata": {},
   "source": [
    "### 2_4"
   ]
  },
  {
   "cell_type": "code",
   "execution_count": 9,
   "id": "a8ec4b4d",
   "metadata": {},
   "outputs": [
    {
     "data": {
      "text/plain": [
       "(0, 1)"
      ]
     },
     "execution_count": 9,
     "metadata": {},
     "output_type": "execute_result"
    }
   ],
   "source": [
    "x = np.array([1, 0, 0])\n",
    "y = np.array([0, 0, 1])\n",
    "rez = np.dot(x, y)\n",
    "rez2 = np.dot(x, x)\n",
    "rez,rez2"
   ]
  },
  {
   "cell_type": "markdown",
   "id": "67932aa7",
   "metadata": {},
   "source": [
    "Следовательно, вектора образуют ортонормированный базис в линейном пространстве  ℝ3"
   ]
  },
  {
   "cell_type": "code",
   "execution_count": 10,
   "id": "d942eaca",
   "metadata": {},
   "outputs": [
    {
     "data": {
      "text/plain": [
       "(0.0, 1.0)"
      ]
     },
     "execution_count": 10,
     "metadata": {},
     "output_type": "execute_result"
    }
   ],
   "source": [
    "x = np.array([1/np.sqrt(2), -1/np.sqrt(2), 0])\n",
    "y = np.array([1/np.sqrt(2), 1/np.sqrt(2), 0])\n",
    "z = np.array([0, 0, 1])\n",
    "rez = np.dot(x, y)\n",
    "rez2 = round(np.dot(x, x),2)\n",
    "rez,rez2"
   ]
  },
  {
   "cell_type": "markdown",
   "id": "953e2807",
   "metadata": {},
   "source": [
    "Следовательно, вектора образуют ортонормированный базис в линейном пространстве  ℝ3"
   ]
  },
  {
   "cell_type": "code",
   "execution_count": 11,
   "id": "4a3d33fe",
   "metadata": {},
   "outputs": [
    {
     "data": {
      "text/plain": [
       "(-0.25, 0.5)"
      ]
     },
     "execution_count": 11,
     "metadata": {},
     "output_type": "execute_result"
    }
   ],
   "source": [
    "x = np.array([1/2,-1/2,0])\n",
    "y = np.array([0,1/2,1/2])\n",
    "z = np.array([0,0,1])\n",
    "rez = np.dot(x, y)\n",
    "rez2 = round(np.dot(x, x),2)\n",
    "rez,rez2"
   ]
  },
  {
   "cell_type": "markdown",
   "id": "9c087505",
   "metadata": {},
   "source": [
    "Условие не выполняется. Следовательно, вектора не образуют ортонормированный базис в линейном пространстве  ℝ3"
   ]
  },
  {
   "cell_type": "code",
   "execution_count": 12,
   "id": "954fa8b1",
   "metadata": {},
   "outputs": [
    {
     "data": {
      "text/plain": [
       "(0, 1)"
      ]
     },
     "execution_count": 12,
     "metadata": {},
     "output_type": "execute_result"
    }
   ],
   "source": [
    "x = np.array([1,0,0])\n",
    "y = np.array([0,1,0])\n",
    "z = np.array([0,0,1])\n",
    "rez = np.dot(x, y)\n",
    "rez2 = round(np.dot(x, x),2)\n",
    "rez,rez2"
   ]
  },
  {
   "cell_type": "markdown",
   "id": "eae6d56f",
   "metadata": {},
   "source": [
    "Следовательно, вектора образуют ортонормированный базис в линейном пространстве  ℝ3"
   ]
  }
 ],
 "metadata": {
  "kernelspec": {
   "display_name": "Python 3 (ipykernel)",
   "language": "python",
   "name": "python3"
  },
  "language_info": {
   "codemirror_mode": {
    "name": "ipython",
    "version": 3
   },
   "file_extension": ".py",
   "mimetype": "text/x-python",
   "name": "python",
   "nbconvert_exporter": "python",
   "pygments_lexer": "ipython3",
   "version": "3.10.4"
  }
 },
 "nbformat": 4,
 "nbformat_minor": 5
}
