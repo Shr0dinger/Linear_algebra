{
 "cells": [
  {
   "cell_type": "code",
   "execution_count": 1,
   "id": "e4c280cd",
   "metadata": {},
   "outputs": [],
   "source": [
    "import numpy as np\n",
    "np.set_printoptions(precision=2, suppress=True)\n",
    "A = np.array([[1, 2, 0],\n",
    "              [0, 0, 5],\n",
    "              [3, -4, 2],\n",
    "              [1, 6, 5],\n",
    "              [0, 1, 5],])\n",
    "\n",
    "U, s, W = np.linalg.svd(A)\n",
    "V = W.T\n",
    "D = np.zeros_like(A, dtype=float)\n",
    "D[np.diag_indices(min(A.shape))] = s"
   ]
  },
  {
   "cell_type": "code",
   "execution_count": 2,
   "id": "90a1b65c",
   "metadata": {},
   "outputs": [
    {
     "name": "stdout",
     "output_type": "stream",
     "text": [
      "Матрица A:\n",
      "[[ 1  2  0]\n",
      " [ 0  0  5]\n",
      " [ 3 -4  2]\n",
      " [ 1  6  5]\n",
      " [ 0  1  5]]\n",
      "Матрица U:\n",
      "[[ 0.12  0.21 -0.49 -0.79  0.27]\n",
      " [ 0.42 -0.39  0.4  -0.47 -0.53]\n",
      " [-0.03 -0.79 -0.59  0.15 -0.01]\n",
      " [ 0.76  0.32 -0.38  0.35 -0.23]\n",
      " [ 0.48 -0.26  0.33  0.06  0.77]]\n",
      "Матрица D:\n",
      "[[9.88 0.   0.  ]\n",
      " [0.   6.46 0.  ]\n",
      " [0.   0.   2.76]\n",
      " [0.   0.   0.  ]\n",
      " [0.   0.   0.  ]]\n",
      "Матрица V:\n",
      "[[ 0.08 -0.29 -0.95]\n",
      " [ 0.55  0.81 -0.2 ]\n",
      " [ 0.83 -0.5   0.22]]\n"
     ]
    }
   ],
   "source": [
    "print(f'Матрица A:\\n{A}')\n",
    "print(f'Матрица U:\\n{U}')\n",
    "print(f'Матрица D:\\n{D}')\n",
    "print(f'Матрица V:\\n{V}')"
   ]
  },
  {
   "cell_type": "code",
   "execution_count": 7,
   "id": "de8e4f5b",
   "metadata": {},
   "outputs": [
    {
     "name": "stdout",
     "output_type": "stream",
     "text": [
      "Матрица A:\n",
      "[[ 1  2  0]\n",
      " [ 0  0  5]\n",
      " [ 3 -4  2]\n",
      " [ 1  6  5]\n",
      " [ 0  1  5]]\n",
      "Обратное проверочное преобразование:\n",
      " [[ 1.  2.  0.]\n",
      " [ 0. -0.  5.]\n",
      " [ 3. -4.  2.]\n",
      " [ 1.  6.  5.]\n",
      " [ 0.  1.  5.]]\n"
     ]
    }
   ],
   "source": [
    "print(f'Матрица A:\\n{A}')\n",
    "print(f'Обратное проверочное преобразование:\\n {np.dot(np.dot(U, D), V.T)}')"
   ]
  },
  {
   "cell_type": "markdown",
   "id": "6778c78d",
   "metadata": {},
   "source": [
    "### Евклидова норма для матрицы А:"
   ]
  },
  {
   "cell_type": "code",
   "execution_count": 11,
   "id": "5b1b0c0a",
   "metadata": {},
   "outputs": [
    {
     "name": "stdout",
     "output_type": "stream",
     "text": [
      "В соответствии с определением, Евклидова норма матрицы А = 9.884989484674286\n"
     ]
    }
   ],
   "source": [
    "print(f'В соответствии с определением, Евклидова норма матрицы А = {D[0,0]}')"
   ]
  },
  {
   "cell_type": "markdown",
   "id": "9a92fb5f",
   "metadata": {},
   "source": [
    "### Норма Фробениуса для матрицы А:"
   ]
  },
  {
   "cell_type": "code",
   "execution_count": 25,
   "id": "8ba212c0",
   "metadata": {},
   "outputs": [
    {
     "name": "stdout",
     "output_type": "stream",
     "text": [
      "Норма Фробениуса по матрице А: 12.12435565298214\n",
      "Норма Фробениуса по матрице D: 12.124355652982139\n"
     ]
    }
   ],
   "source": [
    "fobD = np.sqrt(np.sum(s*s))\n",
    "fobA = np.sqrt(np.sum(A*A))\n",
    "print(f'Норма Фробениуса по матрице А: {fobA}')\n",
    "print(f'Норма Фробениуса по матрице D: {fobD}')"
   ]
  },
  {
   "cell_type": "code",
   "execution_count": null,
   "id": "5057a4eb",
   "metadata": {},
   "outputs": [],
   "source": []
  }
 ],
 "metadata": {
  "kernelspec": {
   "display_name": "Python 3 (ipykernel)",
   "language": "python",
   "name": "python3"
  },
  "language_info": {
   "codemirror_mode": {
    "name": "ipython",
    "version": 3
   },
   "file_extension": ".py",
   "mimetype": "text/x-python",
   "name": "python",
   "nbconvert_exporter": "python",
   "pygments_lexer": "ipython3",
   "version": "3.10.4"
  }
 },
 "nbformat": 4,
 "nbformat_minor": 5
}
