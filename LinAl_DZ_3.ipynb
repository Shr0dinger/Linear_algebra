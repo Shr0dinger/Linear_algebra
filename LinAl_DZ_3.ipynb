{
 "cells": [
  {
   "cell_type": "code",
   "execution_count": 1,
   "id": "384c577f",
   "metadata": {},
   "outputs": [],
   "source": [
    "import numpy as np\n",
    "np.set_printoptions(precision=1)"
   ]
  },
  {
   "cell_type": "markdown",
   "id": "69ad8344",
   "metadata": {},
   "source": [
    "### 1_1"
   ]
  },
  {
   "cell_type": "code",
   "execution_count": 2,
   "id": "a062f2bc",
   "metadata": {},
   "outputs": [
    {
     "name": "stdout",
     "output_type": "stream",
     "text": [
      "Исходная матрица:\n",
      "[[-1 -6]\n",
      " [ 2  6]]\n",
      "Собственные значения:\n",
      "[2. 3.]\n",
      "Собственные векторы:\n",
      "[[-0.9  0.8]\n",
      " [ 0.4 -0.6]]\n"
     ]
    }
   ],
   "source": [
    "A = np.array([[-1, -6], [2, 6]])\n",
    "print('Исходная матрица:')\n",
    "print(A)\n",
    "w, v = np.linalg.eig(A)\n",
    "print('Собственные значения:')\n",
    "print(w)\n",
    "print('Собственные векторы:')\n",
    "print(v)"
   ]
  },
  {
   "cell_type": "markdown",
   "id": "c2fce6ef",
   "metadata": {},
   "source": [
    "### 1_2"
   ]
  },
  {
   "cell_type": "markdown",
   "id": "81491c74",
   "metadata": {},
   "source": [
    "$A=\\begin{pmatrix}\n",
    "-1 & 0\\\\ \n",
    "0 & -1\n",
    "\\end{pmatrix}\n",
    "\\begin{pmatrix}\n",
    "3\\\\ \n",
    "-2 \n",
    "\\end{pmatrix}=\n",
    "\\begin{pmatrix}\n",
    "-1*3 + 0*(-2)\\\\ \n",
    "0*3 - 1*(-2) \n",
    "\\end{pmatrix}=\n",
    "\\begin{pmatrix}\n",
    "-3\\\\ \n",
    "2 \n",
    "\\end{pmatrix}=\n",
    "-1\n",
    "\\begin{pmatrix}\n",
    "3\\\\ \n",
    "2\n",
    "\\end{pmatrix}\n",
    "$"
   ]
  },
  {
   "cell_type": "markdown",
   "id": "ad6b500f",
   "metadata": {},
   "source": [
    "$\\begin{pmatrix}\n",
    "-1 & 0\\\\ \n",
    "0 & -1\n",
    "\\end{pmatrix}\n",
    "\\begin{pmatrix}\n",
    "2\\\\ \n",
    "3 \n",
    "\\end{pmatrix}=\n",
    "\\lambda\n",
    "\\begin{pmatrix}\n",
    "2\\\\ \n",
    "3\n",
    "\\end{pmatrix}\n",
    "$"
   ]
  },
  {
   "cell_type": "markdown",
   "id": "9ad857e3",
   "metadata": {},
   "source": [
    "$\\begin{cases}\n",
    "-1*2 + 3*0=2\\cdot\\lambda \\\\ \n",
    "0*2 + 3*(-1) = 3\\cdot \\lambda\n",
    "\\end{cases}\n",
    "\\Rightarrow\n",
    "\\begin{cases}\n",
    "\\lambda=-1\\\\ \n",
    "\\lambda=-1\n",
    "\\end{cases}$"
   ]
  },
  {
   "cell_type": "markdown",
   "id": "f4ab60e6",
   "metadata": {},
   "source": [
    "### 1_3"
   ]
  },
  {
   "cell_type": "markdown",
   "id": "e81dd9f4",
   "metadata": {},
   "source": [
    "$A=\\begin{pmatrix}\n",
    "1 & 1\\\\ \n",
    "-1 & 3\n",
    "\\end{pmatrix}\n",
    "\\begin{pmatrix}\n",
    "1\\\\ \n",
    "1 \n",
    "\\end{pmatrix}=\n",
    "\\lambda\n",
    "\\begin{pmatrix}\n",
    "1\\\\ \n",
    "1\n",
    "\\end{pmatrix}\n",
    "$"
   ]
  },
  {
   "cell_type": "markdown",
   "id": "06bfab2c",
   "metadata": {},
   "source": [
    "$\\begin{pmatrix}\n",
    "1*1+1*(-1)\\\\ \n",
    "1*1+1*3\n",
    "\\end{pmatrix}=\n",
    "\\begin{pmatrix}\n",
    "0\\\\ \n",
    "4 \n",
    "\\end{pmatrix}=\n",
    "\\lambda\n",
    "\\begin{pmatrix}\n",
    "1\\\\ \n",
    "1\n",
    "\\end{pmatrix}\n",
    "$"
   ]
  },
  {
   "cell_type": "markdown",
   "id": "cdad85f3",
   "metadata": {},
   "source": [
    "$\\begin{cases}\n",
    "0=1\\cdot\\lambda \\\\ \n",
    "4 = 1\\cdot \\lambda\n",
    "\\end{cases}$"
   ]
  },
  {
   "cell_type": "markdown",
   "id": "c8a8df55",
   "metadata": {},
   "source": [
    "Система не имеет смысла."
   ]
  },
  {
   "cell_type": "markdown",
   "id": "66b34287",
   "metadata": {},
   "source": [
    "### 1_4"
   ]
  },
  {
   "cell_type": "markdown",
   "id": "54a53b27",
   "metadata": {},
   "source": [
    "$A=\\begin{pmatrix}\n",
    "0 & 3&0\\\\ \n",
    "3 & 0&0\\\\\n",
    "0&0&3\n",
    "\\end{pmatrix}\n",
    "\\begin{pmatrix}\n",
    "3\\\\ \n",
    "-3\\\\\n",
    "-4\n",
    "\\end{pmatrix}=\n",
    "\\lambda\n",
    "\\begin{pmatrix}\n",
    "3\\\\ \n",
    "-3\\\\\n",
    "-4\n",
    "\\end{pmatrix}\n",
    "$"
   ]
  },
  {
   "cell_type": "markdown",
   "id": "1f83ab47",
   "metadata": {},
   "source": [
    "$\\begin{pmatrix}\n",
    "3*0+3*3+0*3\\\\ \n",
    "-3*3+(-3)*0+(-3)*0\\\\\n",
    "-4*0+(-4)*0+(-4)*3\n",
    "\\end{pmatrix}=\n",
    "\\begin{pmatrix}\n",
    "9\\\\ \n",
    "-9\\\\\n",
    "-12\n",
    "\\end{pmatrix}=\n",
    "\\lambda\n",
    "\\begin{pmatrix}\n",
    "3\\\\ \n",
    "-3\\\\\n",
    "-4\n",
    "\\end{pmatrix}\n",
    "$"
   ]
  },
  {
   "cell_type": "markdown",
   "id": "7f0c02e0",
   "metadata": {},
   "source": [
    "$\\begin{cases}\n",
    "9=3\\cdot\\lambda \\\\ \n",
    "-9 = -3\\cdot \\lambda \\\\\n",
    "-12=-4\\cdot\\lambda\n",
    "\\end{cases}\n",
    "\\Rightarrow\n",
    "\\begin{cases}\n",
    "\\lambda=3\\\\ \n",
    "\\lambda=3\\\\\n",
    "\\lambda=3\n",
    "\\end{cases}$"
   ]
  },
  {
   "cell_type": "markdown",
   "id": "7b437078",
   "metadata": {},
   "source": [
    "Вектор (3, -3, -4) вляется собственным вектором оператора."
   ]
  }
 ],
 "metadata": {
  "kernelspec": {
   "display_name": "Python 3 (ipykernel)",
   "language": "python",
   "name": "python3"
  },
  "language_info": {
   "codemirror_mode": {
    "name": "ipython",
    "version": 3
   },
   "file_extension": ".py",
   "mimetype": "text/x-python",
   "name": "python",
   "nbconvert_exporter": "python",
   "pygments_lexer": "ipython3",
   "version": "3.10.4"
  }
 },
 "nbformat": 4,
 "nbformat_minor": 5
}
