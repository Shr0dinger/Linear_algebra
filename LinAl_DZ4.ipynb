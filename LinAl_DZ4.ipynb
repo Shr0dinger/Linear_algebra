{
 "cells": [
  {
   "cell_type": "code",
   "execution_count": 1,
   "id": "9dc11001",
   "metadata": {},
   "outputs": [],
   "source": [
    "import numpy as np"
   ]
  },
  {
   "cell_type": "markdown",
   "id": "8b6f44fc",
   "metadata": {},
   "source": [
    "### 1_1"
   ]
  },
  {
   "cell_type": "markdown",
   "id": "615ba7b3",
   "metadata": {},
   "source": [
    "$\\begin{cases}\n",
    "x_{1}+x_{2}-x_{3}-2x_{4}=0, \\\\\n",
    "2x_{1}+x_{2}-x_{3}+x_{4}=-2, \\\\\n",
    "x_{1}+x_{2}-3x_{3}+x_{4}=4.\n",
    "\\end{cases}$"
   ]
  },
  {
   "cell_type": "markdown",
   "id": "196d6b81",
   "metadata": {},
   "source": [
    "$\\begin{pmatrix}\n",
    "\\left.\\begin{matrix}\n",
    "1 & 1 & -1 & -2 \\\\ \n",
    "2 & 1 & -1 & 1 \\\\ \n",
    "1 & 1 & -3 & 1\n",
    "\\end{matrix}\\right|\n",
    "\\begin{matrix}\n",
    "0\\\\ \n",
    "-2\\\\\n",
    "4\n",
    "\\end{matrix}\n",
    "\\end{pmatrix}$"
   ]
  },
  {
   "cell_type": "markdown",
   "id": "1cd4ba8f",
   "metadata": {},
   "source": [
    "$\\begin{pmatrix}\n",
    "\\left.\\begin{matrix}\n",
    "1 & 1 & -1 & -2 \\\\ \n",
    "0 & -1 & -3 & -3 \\\\ \n",
    "1 & 1 & -3 & 1\n",
    "\\end{matrix}\\right|\n",
    "\\begin{matrix}\n",
    "0\\\\ \n",
    "-2\\\\\n",
    "4\n",
    "\\end{matrix}\n",
    "\\end{pmatrix}$"
   ]
  },
  {
   "cell_type": "markdown",
   "id": "ebdf1985",
   "metadata": {},
   "source": [
    "$\\begin{pmatrix}\n",
    "\\left.\\begin{matrix}\n",
    "1 & 1 & -1 & -2 \\\\ \n",
    "0 & -1 & -3 & -3 \\\\ \n",
    "0 & 0 & -4 & -1\n",
    "\\end{matrix}\\right|\n",
    "\\begin{matrix}\n",
    "0\\\\ \n",
    "-2\\\\\n",
    "4\n",
    "\\end{matrix}\n",
    "\\end{pmatrix}$"
   ]
  },
  {
   "cell_type": "markdown",
   "id": "e7e2a117",
   "metadata": {},
   "source": [
    "Система имеет бесконечное количество решений."
   ]
  },
  {
   "cell_type": "markdown",
   "id": "beb16a82",
   "metadata": {},
   "source": [
    "Общее решение:"
   ]
  },
  {
   "cell_type": "markdown",
   "id": "6e70bb35",
   "metadata": {},
   "source": [
    "$x_{4}=c$"
   ]
  },
  {
   "cell_type": "markdown",
   "id": "0413dd75",
   "metadata": {},
   "source": [
    "$-4x_{3}-c=4 \\; \\Leftrightarrow \\; x_{3}=(4+c)/-4$"
   ]
  },
  {
   "cell_type": "markdown",
   "id": "78f96897",
   "metadata": {},
   "source": [
    "$-x_{2}-3((4+с)/−4) - 3с=-2 \\; \\Leftrightarrow \\; x_{2}=-3((4+с)/−4) - 3с + 2$"
   ]
  },
  {
   "cell_type": "markdown",
   "id": "8f34602d",
   "metadata": {},
   "source": [
    "$x_{1}-3((4+с)/−4) - 3с + 2 - ((4+c)/-4) - 2с=0 \\; \\Leftrightarrow \\; x_{1}=4((4+с)/−4) + 5с - 2$"
   ]
  },
  {
   "cell_type": "markdown",
   "id": "9e9ae9f3",
   "metadata": {},
   "source": [
    "### 1_2"
   ]
  },
  {
   "cell_type": "code",
   "execution_count": 2,
   "id": "8af9ef14",
   "metadata": {},
   "outputs": [
    {
     "name": "stdout",
     "output_type": "stream",
     "text": [
      "Основная матрица:\n",
      "[[ 3 -1  1]\n",
      " [ 2 -5 -3]\n",
      " [ 1  1 -1]]\n",
      "расширенная матрица:\n",
      "[[  3  -1   1   4]\n",
      " [  2  -5  -3 -17]\n",
      " [  1   1  -1   0]]\n",
      "Ранг основной матрицы:3\n",
      "Ранг расширенной матрицы:3\n",
      "rankA = rankAA = n, система определена, то есть имеет единственное решение\n"
     ]
    }
   ],
   "source": [
    "A = np.array([[3, -1, 1], [2, -5, -3], [1, 1, -1]])\n",
    "print('Основная матрица:')\n",
    "print(A)\n",
    "AA = np.array([[3, -1, 1, 4], [2, -5, -3, -17], [1, 1, -1, 0]])\n",
    "print('расширенная матрица:')\n",
    "print(AA)\n",
    "print(f'Ранг основной матрицы:{np.linalg.matrix_rank(A)}')\n",
    "print(f'Ранг расширенной матрицы:{np.linalg.matrix_rank(AA)}')\n",
    "print('rankA = rankAA = n, система определена, то есть имеет единственное решение')"
   ]
  },
  {
   "cell_type": "code",
   "execution_count": 3,
   "id": "fd25925f",
   "metadata": {},
   "outputs": [
    {
     "name": "stdout",
     "output_type": "stream",
     "text": [
      "Основная матрица:\n",
      "[[ 2 -4  6]\n",
      " [ 1 -2  3]\n",
      " [ 3 -6  9]]\n",
      "расширенная матрица:\n",
      "[[ 2 -4  6  1]\n",
      " [ 1 -2  3 -2]\n",
      " [ 3 -6  9  5]]\n",
      "Ранг основной матрицы:1\n",
      "Ранг расширенной матрицы:2\n",
      "rankA < rankAA, система система несовместна\n"
     ]
    }
   ],
   "source": [
    "A = np.array([[2, -4, 6], [1, -2, 3], [3, -6, 9]])\n",
    "print('Основная матрица:')\n",
    "print(A)\n",
    "AA = np.array([[2, -4, 6, 1], [1, -2, 3, -2], [3, -6, 9, 5]])\n",
    "print('расширенная матрица:')\n",
    "print(AA)\n",
    "print(f'Ранг основной матрицы:{np.linalg.matrix_rank(A)}')\n",
    "print(f'Ранг расширенной матрицы:{np.linalg.matrix_rank(AA)}')\n",
    "print('rankA < rankAA, система система несовместна')"
   ]
  },
  {
   "cell_type": "code",
   "execution_count": 4,
   "id": "ee0bb741",
   "metadata": {},
   "outputs": [
    {
     "name": "stdout",
     "output_type": "stream",
     "text": [
      "Основная матрица:\n",
      "[[ 1  2  5]\n",
      " [ 3  1 -8]]\n",
      "расширенная матрица:\n",
      "[[ 1  2  5  4]\n",
      " [ 3  1 -8 -2]]\n",
      "Ранг основной матрицы:2\n",
      "Ранг расширенной матрицы:2\n",
      "rankA = rankAA < n, система имеет бесконечное количество решений\n"
     ]
    }
   ],
   "source": [
    "A = np.array([[1, 2, 5], [3, 1, -8]])\n",
    "print('Основная матрица:')\n",
    "print(A)\n",
    "AA = np.array([[1, 2, 5, 4], [3, 1, -8, -2]])\n",
    "print('расширенная матрица:')\n",
    "print(AA)\n",
    "print(f'Ранг основной матрицы:{np.linalg.matrix_rank(A)}')\n",
    "print(f'Ранг расширенной матрицы:{np.linalg.matrix_rank(AA)}')\n",
    "print('rankA = rankAA < n, система имеет бесконечное количество решений')"
   ]
  },
  {
   "cell_type": "markdown",
   "id": "4cc090b7",
   "metadata": {},
   "source": [
    "### 1_3"
   ]
  },
  {
   "cell_type": "markdown",
   "id": "bfd1ff75",
   "metadata": {},
   "source": [
    "$\\tilde{A}=\\begin{pmatrix}\n",
    "\\left.\\begin{matrix}\n",
    "1 & 3 & -2 & 4\\\\ \n",
    "0 & 5 & 0 & 1\\\\ \n",
    "0 & 0 & 3 & 0\\\\ \n",
    "0 & 0 & 0 & 2\n",
    "\\end{matrix}\\right|\n",
    "\\begin{matrix}\n",
    "3\\\\ \n",
    "2\\\\\n",
    "4\\\\\n",
    "1\n",
    "\\end{matrix}\n",
    "\\end{pmatrix}$"
   ]
  },
  {
   "cell_type": "code",
   "execution_count": 5,
   "id": "08dadad7",
   "metadata": {},
   "outputs": [
    {
     "name": "stdout",
     "output_type": "stream",
     "text": [
      "Основная матрица:\n",
      "[[ 1  3 -2  4]\n",
      " [ 0  5  0  1]\n",
      " [ 0  0  3  0]\n",
      " [ 0  0  0  2]]\n",
      "расширенная матрица:\n",
      "[[ 1  3 -2  4  3]\n",
      " [ 0  5  0  1  2]\n",
      " [ 0  0  3  0  4]\n",
      " [ 0  0  0  2  1]]\n",
      "Ранг основной матрицы:4\n",
      "Ранг расширенной матрицы:4\n",
      "rankA = rankAA = n, система определена, то есть имеет единственное решение\n"
     ]
    }
   ],
   "source": [
    "A = np.array([[1, 3, -2, 4], [0, 5, 0, 1], [0, 0, 3, 0], [0, 0, 0, 2]])\n",
    "print('Основная матрица:')\n",
    "print(A)\n",
    "AA = np.array([[1, 3, -2, 4, 3], [0, 5, 0, 1, 2], [0, 0, 3, 0, 4], [0, 0, 0, 2, 1]])\n",
    "print('расширенная матрица:')\n",
    "print(AA)\n",
    "print(f'Ранг основной матрицы:{np.linalg.matrix_rank(A)}')\n",
    "print(f'Ранг расширенной матрицы:{np.linalg.matrix_rank(AA)}')\n",
    "print('rankA = rankAA = n, система определена, то есть имеет единственное решение')"
   ]
  },
  {
   "cell_type": "markdown",
   "id": "2c569a58",
   "metadata": {},
   "source": [
    "### 1_4"
   ]
  },
  {
   "cell_type": "markdown",
   "id": "28685ed1",
   "metadata": {},
   "source": [
    "$\\tilde{A}=\\begin{pmatrix}\n",
    "\\left.\\begin{matrix}\n",
    "1 & 2 & 3\\\\ \n",
    "4 & 5 & 6\\\\ \n",
    "7 & 8 & 9\n",
    "\\end{matrix}\\right|\n",
    "\\begin{matrix}\n",
    "a\\\\ \n",
    "b\\\\\n",
    "c\n",
    "\\end{matrix}\n",
    "\\end{pmatrix}$"
   ]
  },
  {
   "cell_type": "code",
   "execution_count": 6,
   "id": "1c1173ce",
   "metadata": {},
   "outputs": [
    {
     "name": "stdout",
     "output_type": "stream",
     "text": [
      "Основная матрица:\n",
      "[[1 2 3]\n",
      " [4 5 6]\n",
      " [7 8 9]]\n",
      "расширенная матрица:\n",
      "[[1 2 3 0]\n",
      " [4 5 6 1]\n",
      " [7 8 9 0]]\n",
      "rankA =  2 rankAA = 3\n",
      "Система несовместна!\n"
     ]
    }
   ],
   "source": [
    "a = 0\n",
    "b = 1\n",
    "c = 0\n",
    "\n",
    "A = np.array([[1, 2, 3], [4, 5, 6], [7, 8, 9]])\n",
    "print('Основная матрица:')\n",
    "print(A)\n",
    "AA = np.array([[1, 2, 3, a], [4, 5, 6, b], [7, 8, 9, c]])\n",
    "print('расширенная матрица:')\n",
    "print(AA)\n",
    "\n",
    "print(f'rankA =  {np.linalg.matrix_rank(A)} rankAA = {np.linalg.matrix_rank(AA)}')\n",
    "\n",
    "if np.linalg.matrix_rank(A) < np.linalg.matrix_rank(AA):\n",
    "    print ('Система несовместна!')\n",
    "else:\n",
    "    print ('Система совместна!')"
   ]
  },
  {
   "cell_type": "markdown",
   "id": "39ec9fcd",
   "metadata": {},
   "source": [
    "### 2_1"
   ]
  },
  {
   "cell_type": "markdown",
   "id": "aa00dde0",
   "metadata": {},
   "source": [
    "а) $\\begin{cases}\n",
    "x_{1}-2x_{2}=1 \\\\\n",
    "3x_{1}-4x_{2}=7\n",
    "\\end{cases}$"
   ]
  },
  {
   "cell_type": "code",
   "execution_count": 28,
   "id": "8bde14f9",
   "metadata": {},
   "outputs": [
    {
     "name": "stdout",
     "output_type": "stream",
     "text": [
      "Основная матрица:\n",
      "[[ 1 -2]\n",
      " [ 3 -4]]\n",
      "Определитель: 2\n",
      "[[ 1 -2]\n",
      " [ 7 -4]]\n",
      "Определитель: 9\n",
      "[[1 1]\n",
      " [3 7]]\n",
      "Определитель: 3\n",
      "x1 = 4.5\n",
      "x2 = 1.5\n"
     ]
    }
   ],
   "source": [
    "A = np.array([[1, -2], [3, -4]])\n",
    "print('Основная матрица:')\n",
    "print(A)\n",
    "det1 = int(np.linalg.det(A))\n",
    "print(f'Определитель: {det1}')\n",
    "\n",
    "a = 1\n",
    "b = 7\n",
    "\n",
    "A = np.array([[a, -2], [b, -4]])\n",
    "print(A)\n",
    "det2 = int(np.linalg.det(A))\n",
    "print(f'Определитель: {det2}')\n",
    "\n",
    "A = np.array([[1, a], [3, b]])\n",
    "print(A)\n",
    "det3 = int(np.linalg.det(A))\n",
    "print(f'Определитель: {det3}')\n",
    "\n",
    "\n",
    "print (f'x1 = {det2/det1}')\n",
    "print (f'x2 = {det3/det1}')\n"
   ]
  },
  {
   "cell_type": "markdown",
   "id": "1c4ae9c3",
   "metadata": {},
   "source": [
    "б) $\\begin{cases}\n",
    "2x_{1}-x_{2}+5x_{3}=10 \\\\\n",
    "x_{1}+x_{2}-3x_{3}=-2 \\\\\n",
    "2x_{1}+4x_{2}+x_{3}=1\n",
    "\\end{cases}$"
   ]
  },
  {
   "cell_type": "code",
   "execution_count": 40,
   "id": "f89450d1",
   "metadata": {},
   "outputs": [
    {
     "name": "stdout",
     "output_type": "stream",
     "text": [
      "Основная матрица:\n",
      "[[ 2 -1  5]\n",
      " [ 1  1 -3]\n",
      " [ 2  4  1]]\n",
      "Определитель: 43.0\n",
      "[[10 -1  5]\n",
      " [-2  1 -3]\n",
      " [ 1  4  1]]\n",
      "Определитель: 86.0\n",
      "[[ 2 10  5]\n",
      " [ 1 -2 -3]\n",
      " [ 2  1  1]]\n",
      "Определитель: -43.0\n",
      "[[ 2 -1 10]\n",
      " [ 1  1 -2]\n",
      " [ 2  4  1]]\n",
      "Определитель: 43.0\n",
      "x1 = 2.0\n",
      "x2 = -1.0\n",
      "x3 = 1.0\n"
     ]
    }
   ],
   "source": [
    "A = np.array([[2, -1, 5], [1, 1, -3], [2, 4, 1]])\n",
    "print('Основная матрица:')\n",
    "print(A)\n",
    "det1 = round(np.linalg.det(A),1)\n",
    "print(f'Определитель: {det1}')\n",
    "\n",
    "a = 10\n",
    "b = -2\n",
    "c = 1\n",
    "\n",
    "A = np.array([[a, -1, 5], [b, 1, -3], [c, 4, 1]])\n",
    "print(A)\n",
    "det2 = round(np.linalg.det(A),1)\n",
    "print(f'Определитель: {det2}')\n",
    "\n",
    "A = np.array([[2, a, 5], [1, b, -3], [2, c, 1]])\n",
    "print(A)\n",
    "det3 = round(np.linalg.det(A),1)\n",
    "print(f'Определитель: {det3}')\n",
    "\n",
    "A = np.array([[2, -1, a], [1, 1, b], [2, 4, c]])\n",
    "print(A)\n",
    "det4 = round(np.linalg.det(A),1)\n",
    "print(f'Определитель: {det4}')\n",
    "\n",
    "\n",
    "print (f'x1 = {det2/det1}')\n",
    "print (f'x2 = {det3/det1}')\n",
    "print (f'x3 = {det4/det1}')\n"
   ]
  }
 ],
 "metadata": {
  "kernelspec": {
   "display_name": "Python 3 (ipykernel)",
   "language": "python",
   "name": "python3"
  },
  "language_info": {
   "codemirror_mode": {
    "name": "ipython",
    "version": 3
   },
   "file_extension": ".py",
   "mimetype": "text/x-python",
   "name": "python",
   "nbconvert_exporter": "python",
   "pygments_lexer": "ipython3",
   "version": "3.10.4"
  }
 },
 "nbformat": 4,
 "nbformat_minor": 5
}
