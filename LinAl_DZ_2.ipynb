{
 "cells": [
  {
   "cell_type": "markdown",
   "id": "90c9449b",
   "metadata": {},
   "source": [
    "### 1_1"
   ]
  },
  {
   "cell_type": "code",
   "execution_count": 1,
   "id": "a16b75f9",
   "metadata": {},
   "outputs": [],
   "source": [
    "import numpy as np"
   ]
  },
  {
   "cell_type": "code",
   "execution_count": 2,
   "id": "6782afdf",
   "metadata": {},
   "outputs": [
    {
     "name": "stdout",
     "output_type": "stream",
     "text": [
      "ERROR! Произведение матриц А (4, 2) и В (4, 2) невозможно.\n",
      "---------------\n",
      "Матрица AB с размерами (2, 3) из исходных матриц А (2, 5) и В (5, 3)\n",
      "[[46 23 72]\n",
      " [12  7 50]]\n",
      "---------------\n",
      "Матрица AB с размерами (8, 8) из исходных матриц А (8, 3) и В (3, 8)\n",
      "[[  6   0  24  12   6   0  24  54]\n",
      " [  4   1   8   8   4   0  12  27]\n",
      " [ 32   5  88  64  32   0 108 243]\n",
      " [ 13   1  44  26  13   0  48 108]\n",
      " [  4   1   8   8   4   0  12  27]\n",
      " [  6   0  24  12   6   0  24  54]\n",
      " [  4   1   8   8   4   0  12  27]\n",
      " [ 32   5  88  64  32   0 108 243]]\n",
      "---------------\n",
      "Матрица AB с размерами (4, 4) из исходных матриц А (4, 4) и В (4, 4)\n",
      "[[ 38  18 104  96]\n",
      " [ 40  16  46  26]\n",
      " [148  64 173  85]\n",
      " [ 40  16  46  26]]\n",
      "---------------\n"
     ]
    }
   ],
   "source": [
    "A = np.array([[1, 0], [2, 1], [10, 5], [2, 1]])\n",
    "B = np.array([[2, 0], [0, 1], [10, 5], [2, 1]])\n",
    "try:\n",
    "    C = A.dot(B)\n",
    "    print(f'Матрица AB с размерами {C.shape} из исходных матриц А {A.shape} и В {B.shape}')\n",
    "    print(C)\n",
    "    print('---------------')\n",
    "except:\n",
    "    print(f'ERROR! Произведение матриц А {A.shape} и В {B.shape} невозможно.')\n",
    "    print('---------------')\n",
    "\n",
    "A = np.array([[1, 0, 4 , 2, 1], [2, 1, 0, 4 ,2]])\n",
    "B = np.array([[2, 0, 4], [0, 1, 2], [10, 5, 12], [2, 1, 9], [0, 1, 2]])\n",
    "try:\n",
    "    C = A.dot(B)\n",
    "    print(f'Матрица AB с размерами {C.shape} из исходных матриц А {A.shape} и В {B.shape}')\n",
    "    print(C)\n",
    "    print('---------------')\n",
    "except:\n",
    "    print('ERROR!')\n",
    "    print('---------------')\n",
    "\n",
    "A = np.array([[2, 0, 4], [0, 1, 2], [10, 5, 12], [2, 1, 9], [0, 1, 2], [2, 0, 4], [0, 1, 2], [10, 5, 12]])\n",
    "B = np.array([[1, 0, 4 , 2, 1, 0, 4, 9], [2, 1, 0, 4, 2, 0, 4, 9], [1, 0, 4 , 2, 1, 0, 4, 9]])\n",
    "try:\n",
    "    C = A.dot(B)\n",
    "    print(f'Матрица AB с размерами {C.shape} из исходных матриц А {A.shape} и В {B.shape}')\n",
    "    print(C)\n",
    "    print('---------------')\n",
    "except:\n",
    "    print('ERROR!')\n",
    "    print('---------------')\n",
    "\n",
    "A = np.array([[1, 0, 3, 8], [4, 1, 2, 1], [10, 5, 9, 2], [4, 1, 2, 1]])\n",
    "B = np.array([[4, 1, 2, 1], [10, 5, 9, 2], [6,3,10, 5], [2, 1, 9, 10]])\n",
    "try:\n",
    "    C = A.dot(B)\n",
    "    print(f'Матрица AB с размерами {C.shape} из исходных матриц А {A.shape} и В {B.shape}')\n",
    "    print(C)\n",
    "    print('---------------')\n",
    "except:\n",
    "    print('ERROR!')\n",
    "    print('---------------')\n"
   ]
  },
  {
   "cell_type": "markdown",
   "id": "bce1136e",
   "metadata": {},
   "source": [
    "### 1_2"
   ]
  },
  {
   "cell_type": "code",
   "execution_count": 3,
   "id": "407619c0",
   "metadata": {},
   "outputs": [
    {
     "name": "stdout",
     "output_type": "stream",
     "text": [
      "Матрица A (2, 2)\n",
      "[[ 1 -2]\n",
      " [ 3  0]]\n",
      "Матрица B (2, 2)\n",
      "[[ 4 -1]\n",
      " [ 0  5]]\n",
      "Сумма матриц A и В:\n",
      "[[ 5 -3]\n",
      " [ 3  5]]\n",
      "Произведение матриц A и В:\n",
      "[[  4 -11]\n",
      " [ 12  -3]]\n"
     ]
    }
   ],
   "source": [
    "A = np.array([[1, -2], [3, 0]])\n",
    "B = np.array([[4, -1], [0, 5]])\n",
    "\n",
    "print(f'Матрица A {A.shape}')\n",
    "print(A)\n",
    "print(f'Матрица B {B.shape}')\n",
    "print(B)\n",
    "\n",
    "print(f'Сумма матриц A и В:')\n",
    "print(A+B)\n",
    "\n",
    "print(f'Произведение матриц A и В:')\n",
    "print(A.dot(B))"
   ]
  },
  {
   "cell_type": "markdown",
   "id": "4591e32b",
   "metadata": {},
   "source": [
    "### 1_3"
   ]
  },
  {
   "cell_type": "code",
   "execution_count": 4,
   "id": "f1a74356",
   "metadata": {},
   "outputs": [
    {
     "name": "stdout",
     "output_type": "stream",
     "text": [
      "Матрица А:\n",
      "[[ 1  7]\n",
      " [ 3 -6]]\n",
      "Матрица В:\n",
      "[[ 0  5]\n",
      " [ 2 -1]]\n",
      "Матрица С:\n",
      "[[ 2 -4]\n",
      " [ 1  1]]\n",
      "Линейная комбинация: 3𝐴−2𝐵+4𝐶\n",
      "Ответ:\n",
      "[[ 11  -5]\n",
      " [  9 -12]]\n"
     ]
    }
   ],
   "source": [
    "A = np.array([[1, 7], [3, -6]])\n",
    "B = np.array([[0, 5], [2, -1]])\n",
    "C = np.array([[2, -4], [1, 1]])\n",
    "print('Матрица А:')\n",
    "print(A)\n",
    "print('Матрица В:')\n",
    "print(B)\n",
    "print('Матрица С:')\n",
    "print(C)\n",
    "print('Линейная комбинация: 3𝐴−2𝐵+4𝐶')\n",
    "print('Ответ:')\n",
    "print((3*A)-(2*B)+(4*C))"
   ]
  },
  {
   "cell_type": "markdown",
   "id": "049b3211",
   "metadata": {},
   "source": [
    "### 1_4"
   ]
  },
  {
   "cell_type": "code",
   "execution_count": 5,
   "id": "b2f36214",
   "metadata": {},
   "outputs": [
    {
     "name": "stdout",
     "output_type": "stream",
     "text": [
      "Исходная матрица А:\n",
      "[[ 4  1]\n",
      " [ 5 -2]\n",
      " [ 2  3]]\n",
      "Транспонированная матрица А:\n",
      "[[ 4  5  2]\n",
      " [ 1 -2  3]]\n",
      "Произведение исходной матрицы на транспонированную:\n",
      "[[17 18 11]\n",
      " [18 29  4]\n",
      " [11  4 13]]\n",
      "Произведение транспонированной матрицы на исходную:\n",
      "[[45  0]\n",
      " [ 0 14]]\n"
     ]
    }
   ],
   "source": [
    "A = np.array([[4, 1], [5, -2], [2, 3]])\n",
    "print('Исходная матрица А:')\n",
    "print(A)\n",
    "aT = A.T\n",
    "print('Транспонированная матрица А:')\n",
    "print(aT)\n",
    "\n",
    "AaT = A.dot(aT)\n",
    "print('Произведение исходной матрицы на транспонированную:')\n",
    "print(AaT)\n",
    "\n",
    "aTA = aT.dot(A)\n",
    "print('Произведение транспонированной матрицы на исходную:')\n",
    "print(aTA)"
   ]
  },
  {
   "cell_type": "markdown",
   "id": "7e4e951e",
   "metadata": {},
   "source": [
    "### 2_1"
   ]
  },
  {
   "cell_type": "code",
   "execution_count": 6,
   "id": "16fab86e",
   "metadata": {},
   "outputs": [
    {
     "name": "stdout",
     "output_type": "stream",
     "text": [
      "Исходная матрица А:\n",
      "[[ 0. -1.]\n",
      " [ 1.  0.]]\n",
      "Определитель матрицы: 1\n"
     ]
    }
   ],
   "source": [
    "x = 0\n",
    "A = np.array([[np.sin(x), -np.cos(x)], [np.cos(x), np.sin(x)]])\n",
    "print('Исходная матрица А:')\n",
    "print(A)\n",
    "opr = int(np.linalg.det(A))\n",
    "print(f'Определитель матрицы: {opr}')\n",
    "if opr == 0: print(f'Определитель = {opr}, следовательно матрица вырожденная.')"
   ]
  },
  {
   "cell_type": "code",
   "execution_count": 7,
   "id": "07700bcf",
   "metadata": {},
   "outputs": [
    {
     "name": "stdout",
     "output_type": "stream",
     "text": [
      "Исходная матрица А:\n",
      "[[4 2 3]\n",
      " [0 5 1]\n",
      " [0 0 9]]\n",
      "Определитель матрицы: 180\n"
     ]
    }
   ],
   "source": [
    "A = np.array([[4, 2, 3], [0, 5, 1], [0, 0, 9]])\n",
    "print('Исходная матрица А:')\n",
    "print(A)\n",
    "opr = int(np.linalg.det(A))\n",
    "print(f'Определитель матрицы: {opr}')\n",
    "if opr == 0: print(f'Определитель = {opr}, следовательно матрица вырожденная.')"
   ]
  },
  {
   "cell_type": "code",
   "execution_count": 8,
   "id": "20173c0e",
   "metadata": {},
   "outputs": [
    {
     "name": "stdout",
     "output_type": "stream",
     "text": [
      "Исходная матрица А:\n",
      "[[1 2 3]\n",
      " [4 5 6]\n",
      " [7 8 9]]\n",
      "Определитель матрицы: 0\n",
      "Определитель = 0, следовательно матрица вырожденная.\n"
     ]
    }
   ],
   "source": [
    "A = np.array([[1, 2, 3], [4, 5, 6], [7, 8, 9]])\n",
    "print('Исходная матрица А:')\n",
    "print(A)\n",
    "opr = int(np.linalg.det(A))\n",
    "print(f'Определитель матрицы: {opr}')\n",
    "if opr == 0: print(f'Определитель = {opr}, следовательно матрица вырожденная.')"
   ]
  },
  {
   "cell_type": "markdown",
   "id": "ffa0b0db",
   "metadata": {},
   "source": [
    "### 2_2"
   ]
  },
  {
   "cell_type": "code",
   "execution_count": 9,
   "id": "02c537a3",
   "metadata": {},
   "outputs": [
    {
     "name": "stdout",
     "output_type": "stream",
     "text": [
      "Исходная матрица А:\n",
      "[[1 1]\n",
      " [1 5]]\n",
      "Определитель матрицы: 4\n",
      "𝑑𝑒𝑡(𝐴^2): 24\n",
      "𝑑𝑒𝑡(𝐴𝑇): 4\n",
      "𝑑𝑒𝑡(2𝐴): 15\n"
     ]
    }
   ],
   "source": [
    "A = np.array([[1, 1], [1, 5]])\n",
    "print('Исходная матрица А:')\n",
    "print(A)\n",
    "opr = int(np.linalg.det(A))\n",
    "print(f'Определитель матрицы: {opr}')\n",
    "\n",
    "Aa = int(np.linalg.det(A*A))\n",
    "AT = int(np.linalg.det(A.T))\n",
    "AA = int(np.linalg.det(A*2))\n",
    "\n",
    "print(f'𝑑𝑒𝑡(𝐴^2): {Aa}')\n",
    "print(f'𝑑𝑒𝑡(𝐴𝑇): {AT}')\n",
    "print(f'𝑑𝑒𝑡(2𝐴): {AA}')"
   ]
  },
  {
   "cell_type": "markdown",
   "id": "01f30a2f",
   "metadata": {},
   "source": [
    "### 2_3"
   ]
  },
  {
   "cell_type": "code",
   "execution_count": 10,
   "id": "b052690c",
   "metadata": {},
   "outputs": [
    {
     "name": "stdout",
     "output_type": "stream",
     "text": [
      "Определитель = 0, следовательно матрица вырожденная.\n"
     ]
    }
   ],
   "source": [
    "A = np.array([[-2, 7, -3], [4, -14, 6], [-3, 7, 13]])\n",
    "opr = int(np.linalg.det(A))\n",
    "if opr == 0: print(f'Определитель = {opr}, следовательно матрица вырожденная.')"
   ]
  },
  {
   "cell_type": "markdown",
   "id": "c0f464e3",
   "metadata": {},
   "source": [
    "### 2_4"
   ]
  },
  {
   "cell_type": "code",
   "execution_count": 11,
   "id": "869206fb",
   "metadata": {},
   "outputs": [
    {
     "name": "stdout",
     "output_type": "stream",
     "text": [
      "Исходная матрица А:\n",
      "[[1 2 3]\n",
      " [1 1 1]\n",
      " [2 3 4]]\n",
      "Ранг матрицы: 2\n"
     ]
    }
   ],
   "source": [
    "A = np.array([[1, 2, 3], [1, 1, 1], [2, 3, 4]])\n",
    "print('Исходная матрица А:')\n",
    "print(A)\n",
    "print(f'Ранг матрицы: {np.linalg.matrix_rank(A)}')"
   ]
  },
  {
   "cell_type": "code",
   "execution_count": 12,
   "id": "18f91b54",
   "metadata": {},
   "outputs": [
    {
     "name": "stdout",
     "output_type": "stream",
     "text": [
      "Исходная матрица А:\n",
      "[[0 0 2 1]\n",
      " [0 0 2 2]\n",
      " [0 0 4 3]\n",
      " [2 3 5 6]]\n",
      "Ранг матрицы: 3\n"
     ]
    }
   ],
   "source": [
    "A = np.array([[0, 0, 2, 1], [0, 0, 2, 2], [0, 0, 4, 3], [2, 3, 5, 6]])\n",
    "print('Исходная матрица А:')\n",
    "print(A)\n",
    "print(f'Ранг матрицы: {np.linalg.matrix_rank(A)}')"
   ]
  },
  {
   "cell_type": "code",
   "execution_count": null,
   "id": "b6b23dc4",
   "metadata": {},
   "outputs": [],
   "source": []
  }
 ],
 "metadata": {
  "kernelspec": {
   "display_name": "Python 3 (ipykernel)",
   "language": "python",
   "name": "python3"
  },
  "language_info": {
   "codemirror_mode": {
    "name": "ipython",
    "version": 3
   },
   "file_extension": ".py",
   "mimetype": "text/x-python",
   "name": "python",
   "nbconvert_exporter": "python",
   "pygments_lexer": "ipython3",
   "version": "3.10.4"
  }
 },
 "nbformat": 4,
 "nbformat_minor": 5
}
